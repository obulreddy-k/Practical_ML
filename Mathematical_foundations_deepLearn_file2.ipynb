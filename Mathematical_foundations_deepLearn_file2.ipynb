{
  "nbformat": 4,
  "nbformat_minor": 0,
  "metadata": {
    "colab": {
      "name": "Mathematical_foundations_deepLearn_file2.ipynb",
      "provenance": [],
      "authorship_tag": "ABX9TyO1FRfHbSYNy5TyUxEeOElI",
      "include_colab_link": true
    },
    "kernelspec": {
      "name": "python3",
      "display_name": "Python 3"
    },
    "language_info": {
      "name": "python"
    }
  },
  "cells": [
    {
      "cell_type": "markdown",
      "metadata": {
        "id": "view-in-github",
        "colab_type": "text"
      },
      "source": [
        "<a href=\"https://colab.research.google.com/github/obulreddy-k/Practical_ML/blob/main/Mathematical_foundations_deepLearn_file2.ipynb\" target=\"_parent\"><img src=\"https://colab.research.google.com/assets/colab-badge.svg\" alt=\"Open In Colab\"/></a>"
      ]
    },
    {
      "cell_type": "code",
      "metadata": {
        "colab": {
          "base_uri": "https://localhost:8080/"
        },
        "id": "vWxm2CscdYT0",
        "outputId": "e88971c0-6421-4a3f-d77a-ea16b95bc99a"
      },
      "source": [
        "import numpy as np\n",
        "w = np.array([[1,0.5],[2,1]])\n",
        "print(\"# of axes - w = %d\"%w.ndim)\n",
        "print(\"Shape of w = \",w.shape)\n",
        "print(w)"
      ],
      "execution_count": 1,
      "outputs": [
        {
          "output_type": "stream",
          "text": [
            "# of axes - w = 2\n",
            "Shape of w =  (2, 2)\n",
            "[[1.  0.5]\n",
            " [2.  1. ]]\n"
          ],
          "name": "stdout"
        }
      ]
    },
    {
      "cell_type": "code",
      "metadata": {
        "colab": {
          "base_uri": "https://localhost:8080/"
        },
        "id": "DyJO_m2MeLpB",
        "outputId": "e4c67261-6767-43aa-9bbc-169f664f476f"
      },
      "source": [
        "input = np.array([[1,2],[-1,2]])\n",
        "print(\"axes of input : \", input.ndim)\n",
        "print(\"Shape of input : \", input.shape)\n",
        "print(input)"
      ],
      "execution_count": 2,
      "outputs": [
        {
          "output_type": "stream",
          "text": [
            "axes of input :  2\n",
            "Shape of input :  (2, 2)\n",
            "[[ 1  2]\n",
            " [-1  2]]\n"
          ],
          "name": "stdout"
        }
      ]
    },
    {
      "cell_type": "code",
      "metadata": {
        "colab": {
          "base_uri": "https://localhost:8080/"
        },
        "id": "Niyro0_Xered",
        "outputId": "ebe68d05-aa1d-43a4-afa3-ea5025b01bf5"
      },
      "source": [
        "b = np.array([-2.0,0.5])\n",
        "print(\"axes of b :\", b.ndim)\n",
        "print(\"Shape of b : \",b.shape)\n",
        "print(b)\n"
      ],
      "execution_count": 3,
      "outputs": [
        {
          "output_type": "stream",
          "text": [
            "axes of b : 1\n",
            "Shape of b :  (2,)\n",
            "[-2.   0.5]\n"
          ],
          "name": "stdout"
        }
      ]
    },
    {
      "cell_type": "code",
      "metadata": {
        "colab": {
          "base_uri": "https://localhost:8080/"
        },
        "id": "PM-mlD8ifCyZ",
        "outputId": "11ab8c1e-129c-46f7-90a2-9ee021d12a9f"
      },
      "source": [
        "#Lets apply linear combination\n",
        "z =  np.dot(w,input) + b\n",
        "print(w.shape)\n",
        "print(input.shape)\n",
        "print(b.shape)\n",
        "print(z.shape)\n",
        "print(z)\n",
        "d = np.dot(w,input)\n",
        "print(d)"
      ],
      "execution_count": 4,
      "outputs": [
        {
          "output_type": "stream",
          "text": [
            "(2, 2)\n",
            "(2, 2)\n",
            "(2,)\n",
            "(2, 2)\n",
            "[[-1.5  3.5]\n",
            " [-1.   6.5]]\n",
            "[[0.5 3. ]\n",
            " [1.  6. ]]\n"
          ],
          "name": "stdout"
        }
      ]
    },
    {
      "cell_type": "code",
      "metadata": {
        "id": "GNf5tVPyIrMq",
        "outputId": "54d8b64a-6d35-405f-b8ce-9b9f39eb3264",
        "colab": {
          "base_uri": "https://localhost:8080/"
        }
      },
      "source": [
        "#Lets apply non-linear activation with relu:\n",
        "output = np.maximum(0.,z) #element-wise relu\n",
        "print(output.shape)\n",
        "print(output) "
      ],
      "execution_count": 5,
      "outputs": [
        {
          "output_type": "stream",
          "text": [
            "(2, 2)\n",
            "[[0.  3.5]\n",
            " [0.  6.5]]\n"
          ],
          "name": "stdout"
        }
      ]
    },
    {
      "cell_type": "code",
      "metadata": {
        "id": "FXB8hmgvJYG1",
        "outputId": "7ba5baaf-2ae1-4076-9f86-b070f944e3d7",
        "colab": {
          "base_uri": "https://localhost:8080/",
          "height": 296
        }
      },
      "source": [
        "#Before that, we will visualize a few commonly used activations\n",
        "import matplotlib.pyplot as plt\n",
        "#relu Visualization\n",
        "x = np.linspace(-10,10,100)\n",
        "z = np.maximum(0.,x)\n",
        "plt.plot(x,z)\n",
        "plt.xlabel(\"x\")\n",
        "plt.ylabel(\"relu(x)\")\n"
      ],
      "execution_count": 6,
      "outputs": [
        {
          "output_type": "execute_result",
          "data": {
            "text/plain": [
              "Text(0, 0.5, 'relu(x)')"
            ]
          },
          "metadata": {
            "tags": []
          },
          "execution_count": 6
        },
        {
          "output_type": "display_data",
          "data": {
            "image/png": "[encoded data removed]",
            "text/plain": [
              "<Figure size 432x288 with 1 Axes>"
            ]
          },
          "metadata": {
            "tags": [],
            "needs_background": "light"
          }
        }
      ]
    },
    {
      "cell_type": "code",
      "metadata": {
        "id": "Zdg6xYe2KSnK",
        "outputId": "48562c59-9cf6-476e-e28a-b8a5e3d61a8c",
        "colab": {
          "base_uri": "https://localhost:8080/",
          "height": 296
        }
      },
      "source": [
        "#Sigmoid activation\n",
        "import math\n",
        "x = np.linspace(-10,10,100)\n",
        "z = 1/(1 + np.exp(-x))\n",
        "plt.plot(x,z)\n",
        "plt.xlabel(\"x\")\n",
        "plt.ylabel(\"Sigmoid(x)\")\n"
      ],
      "execution_count": 7,
      "outputs": [
        {
          "output_type": "execute_result",
          "data": {
            "text/plain": [
              "Text(0, 0.5, 'Sigmoid(x)')"
            ]
          },
          "metadata": {
            "tags": []
          },
          "execution_count": 7
        },
        {
          "output_type": "display_data",
          "data": {
            "image/png": "[encoded data removed]",
            "text/plain": [
              "<Figure size 432x288 with 1 Axes>"
            ]
          },
          "metadata": {
            "tags": [],
            "needs_background": "light"
          }
        }
      ]
    }
  ]
}