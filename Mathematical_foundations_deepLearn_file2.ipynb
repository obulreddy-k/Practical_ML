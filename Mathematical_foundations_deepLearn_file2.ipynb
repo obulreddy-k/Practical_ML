{
  "nbformat": 4,
  "nbformat_minor": 0,
  "metadata": {
    "colab": {
      "name": "Mathematical_foundations_deepLearn_file2.ipynb",
      "provenance": [],
      "authorship_tag": "ABX9TyPnOnNkiC6+yqOviP7xW2HK",
      "include_colab_link": true
    },
    "kernelspec": {
      "name": "python3",
      "display_name": "Python 3"
    },
    "language_info": {
      "name": "python"
    }
  },
  "cells": [
    {
      "cell_type": "markdown",
      "metadata": {
        "id": "view-in-github",
        "colab_type": "text"
      },
      "source": [
        "<a href=\"https://colab.research.google.com/github/obulreddy-k/Practical_ML/blob/main/Mathematical_foundations_deepLearn_file2.ipynb\" target=\"_parent\"><img src=\"https://colab.research.google.com/assets/colab-badge.svg\" alt=\"Open In Colab\"/></a>"
      ]
    },
    {
      "cell_type": "code",
      "metadata": {
        "colab": {
          "base_uri": "https://localhost:8080/"
        },
        "id": "vWxm2CscdYT0",
        "outputId": "6c52616c-f067-4d37-b902-9eb2b1ba3df8"
      },
      "source": [
        "import numpy as np\n",
        "w = np.array([[1,0.5],[2,1]])\n",
        "print(\"# of axes - w = %d\"%w.ndim)\n",
        "print(\"Shape of w = \",w.shape)\n",
        "print(w)"
      ],
      "execution_count": 3,
      "outputs": [
        {
          "output_type": "stream",
          "text": [
            "# of axes - w = 2\n",
            "Shape of w =  (2, 2)\n",
            "[[1.  0.5]\n",
            " [2.  1. ]]\n"
          ],
          "name": "stdout"
        }
      ]
    },
    {
      "cell_type": "code",
      "metadata": {
        "colab": {
          "base_uri": "https://localhost:8080/"
        },
        "id": "DyJO_m2MeLpB",
        "outputId": "6b245192-bab0-49f2-95c0-1f56c4b4d669"
      },
      "source": [
        "input = np.array([[1,2],[-1,2]])\n",
        "print(\"axes of input : \", input.ndim)\n",
        "print(\"Shape of input : \", input.shape)\n",
        "print(input)"
      ],
      "execution_count": 4,
      "outputs": [
        {
          "output_type": "stream",
          "text": [
            "axes of input :  2\n",
            "Shape of input :  (2, 2)\n",
            "[[ 1  2]\n",
            " [-1  2]]\n"
          ],
          "name": "stdout"
        }
      ]
    },
    {
      "cell_type": "code",
      "metadata": {
        "colab": {
          "base_uri": "https://localhost:8080/"
        },
        "id": "Niyro0_Xered",
        "outputId": "c67eead3-5386-4ce3-e05b-a72a5e48c89a"
      },
      "source": [
        "b = np.array([-2.0,0.5])\n",
        "print(\"axes of b :\", b.ndim)\n",
        "print(\"Shape of b : \",b.shape)\n",
        "print(b)\n"
      ],
      "execution_count": 5,
      "outputs": [
        {
          "output_type": "stream",
          "text": [
            "axes of b : 1\n",
            "Shape of b :  (2,)\n",
            "[-2.   0.5]\n"
          ],
          "name": "stdout"
        }
      ]
    },
    {
      "cell_type": "code",
      "metadata": {
        "colab": {
          "base_uri": "https://localhost:8080/"
        },
        "id": "PM-mlD8ifCyZ",
        "outputId": "aca00509-4265-40f5-b42b-806181c77c38"
      },
      "source": [
        "#Lets apply linear combination\n",
        "z =  np.dot(w,input) + b\n",
        "print(w.shape)\n",
        "print(input.shape)\n",
        "print(b.shape)\n",
        "print(z.shape)\n",
        "print(z)\n",
        "d = np.dot(w,input)\n",
        "print(d)"
      ],
      "execution_count": 8,
      "outputs": [
        {
          "output_type": "stream",
          "text": [
            "(2, 2)\n",
            "(2, 2)\n",
            "(2,)\n",
            "(2, 2)\n",
            "[[-1.5  3.5]\n",
            " [-1.   6.5]]\n",
            "[[0.5 3. ]\n",
            " [1.  6. ]]\n"
          ],
          "name": "stdout"
        }
      ]
    }
  ]
}