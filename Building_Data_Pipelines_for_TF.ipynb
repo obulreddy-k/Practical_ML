{
  "nbformat": 4,
  "nbformat_minor": 0,
  "metadata": {
    "colab": {
      "name": "Building Data Pipelines for TF.ipynb",
      "provenance": [],
      "authorship_tag": "ABX9TyNrfCh6YUjxTJW9MbmOTJCf",
      "include_colab_link": true
    },
    "kernelspec": {
      "name": "python3",
      "display_name": "Python 3"
    },
    "language_info": {
      "name": "python"
    }
  },
  "cells": [
    {
      "cell_type": "markdown",
      "metadata": {
        "id": "view-in-github",
        "colab_type": "text"
      },
      "source": [
        "<a href=\"https://colab.research.google.com/github/obulreddy-k/Practical_ML/blob/main/Building_Data_Pipelines_for_TF.ipynb\" target=\"_parent\"><img src=\"https://colab.research.google.com/assets/colab-badge.svg\" alt=\"Open In Colab\"/></a>"
      ]
    },
    {
      "cell_type": "code",
      "metadata": {
        "colab": {
          "base_uri": "https://localhost:8080/"
        },
        "id": "Zlsb8uXjBwBZ",
        "outputId": "c58a4b3d-767c-4178-c5b6-1c5af2965f7e"
      },
      "source": [
        "#from __future__ import absolute_import, division, print_function, unicode_literals\n",
        "\n",
        "from __future__ import absolute_import, division, print_function, unicode_literals\n",
        "try:\n",
        "  !pip install tf-nightly-2.0-preview\n",
        "except Exception:\n",
        "  pass\n",
        "import tensorflow as tf\n",
        "import pathlib\n",
        "import matplotlib.pyplot as plt\n",
        "import pandas as pd\n",
        "import numpy as np\n",
        "np.set_printoptions(precision = 4)\n",
        "\n",
        "dataset = tf.data.Dataset.from_tensor_slices([8,3,0,8,2,1])\n",
        "dataset\n",
        "print(dataset)\n",
        "\n",
        "for elem in dataset:\n",
        "  print(elem.numpy())"
      ],
      "execution_count": 6,
      "outputs": [
        {
          "output_type": "stream",
          "text": [
            "\u001b[31mERROR: Could not find a version that satisfies the requirement tf-nightly-2.0-preview (from versions: none)\u001b[0m\n",
            "\u001b[31mERROR: No matching distribution found for tf-nightly-2.0-preview\u001b[0m\n",
            "<TensorSliceDataset shapes: (), types: tf.int32>\n",
            "8\n",
            "3\n",
            "0\n",
            "8\n",
            "2\n",
            "1\n"
          ],
          "name": "stdout"
        }
      ]
    },
    {
      "cell_type": "code",
      "metadata": {
        "colab": {
          "base_uri": "https://localhost:8080/"
        },
        "id": "5HG5xDphEGsG",
        "outputId": "0cfa6ff6-90d2-4b22-e4bb-3b20ea7880b3"
      },
      "source": [
        "it = iter(dataset)\n",
        "print(next(it).numpy())"
      ],
      "execution_count": 9,
      "outputs": [
        {
          "output_type": "stream",
          "text": [
            "8\n"
          ],
          "name": "stdout"
        }
      ]
    },
    {
      "cell_type": "code",
      "metadata": {
        "colab": {
          "base_uri": "https://localhost:8080/"
        },
        "id": "u0A0hH6yEWsu",
        "outputId": "2a49b999-5219-4b55-fc5d-f0bbf8a17899"
      },
      "source": [
        "print(dataset.reduce(0,lambda state, value: state + value).numpy())"
      ],
      "execution_count": 10,
      "outputs": [
        {
          "output_type": "stream",
          "text": [
            "22\n"
          ],
          "name": "stdout"
        }
      ]
    },
    {
      "cell_type": "code",
      "metadata": {
        "colab": {
          "base_uri": "https://localhost:8080/"
        },
        "id": "4B1LSUT4EkEP",
        "outputId": "c1e99d98-d731-42a6-bb84-94bc8d96698d"
      },
      "source": [
        "dataset1 = tf.data.Dataset.from_tensor_slices(tf.random.uniform([4,10]))\n",
        "dataset1.element_spec\n"
      ],
      "execution_count": 11,
      "outputs": [
        {
          "output_type": "execute_result",
          "data": {
            "text/plain": [
              "TensorSpec(shape=(10,), dtype=tf.float32, name=None)"
            ]
          },
          "metadata": {},
          "execution_count": 11
        }
      ]
    },
    {
      "cell_type": "code",
      "metadata": {
        "colab": {
          "base_uri": "https://localhost:8080/"
        },
        "id": "gA0eK90vE4CE",
        "outputId": "c542c672-08bd-410e-998d-943e1fe6f85d"
      },
      "source": [
        "dataset2 = tf.data.Dataset.from_tensor_slices((tf.random.uniform([4]),\n",
        "                                               tf.random.uniform([4,100],maxval = 100, dtype = tf.int32)))\n",
        "dataset2.element_spec"
      ],
      "execution_count": 12,
      "outputs": [
        {
          "output_type": "execute_result",
          "data": {
            "text/plain": [
              "(TensorSpec(shape=(), dtype=tf.float32, name=None),\n",
              " TensorSpec(shape=(100,), dtype=tf.int32, name=None))"
            ]
          },
          "metadata": {},
          "execution_count": 12
        }
      ]
    },
    {
      "cell_type": "code",
      "metadata": {
        "colab": {
          "base_uri": "https://localhost:8080/"
        },
        "id": "s-DJzcFrFj7W",
        "outputId": "a40e810e-4ac3-4c71-ec44-441902996f77"
      },
      "source": [
        "dataset3 = tf.data.Dataset.zip((dataset1,dataset2))\n",
        "dataset3.element_spec\n"
      ],
      "execution_count": 13,
      "outputs": [
        {
          "output_type": "execute_result",
          "data": {
            "text/plain": [
              "(TensorSpec(shape=(10,), dtype=tf.float32, name=None),\n",
              " (TensorSpec(shape=(), dtype=tf.float32, name=None),\n",
              "  TensorSpec(shape=(100,), dtype=tf.int32, name=None)))"
            ]
          },
          "metadata": {},
          "execution_count": 13
        }
      ]
    },
    {
      "cell_type": "code",
      "metadata": {
        "colab": {
          "base_uri": "https://localhost:8080/"
        },
        "id": "sCz-SVZDGTH9",
        "outputId": "b50d794c-68cb-4647-8bc7-5465c39a8565"
      },
      "source": [
        "#Dataset containing a sparse tensor\n",
        "dataset4 = tf.data.Dataset.from_tensors(tf.SparseTensor(indices = [[0,0],[1,2]],values = [1,2],dense_shape=[3,4]))\n",
        "dataset4.element_spec"
      ],
      "execution_count": 16,
      "outputs": [
        {
          "output_type": "execute_result",
          "data": {
            "text/plain": [
              "SparseTensorSpec(TensorShape([3, 4]), tf.int32)"
            ]
          },
          "metadata": {},
          "execution_count": 16
        }
      ]
    },
    {
      "cell_type": "code",
      "metadata": {
        "colab": {
          "base_uri": "https://localhost:8080/"
        },
        "id": "opzE9eWlGXFe",
        "outputId": "44e75bd8-6f8e-4764-9e08-b17c8adf8e25"
      },
      "source": [
        "#Use value_type to see the type of value represented by the element spec\n",
        "dataset4.element_spec.value_type"
      ],
      "execution_count": 17,
      "outputs": [
        {
          "output_type": "execute_result",
          "data": {
            "text/plain": [
              "tensorflow.python.framework.sparse_tensor.SparseTensor"
            ]
          },
          "metadata": {},
          "execution_count": 17
        }
      ]
    },
    {
      "cell_type": "code",
      "metadata": {
        "colab": {
          "base_uri": "https://localhost:8080/"
        },
        "id": "1UgLk4JJGXN9",
        "outputId": "447711a6-7942-4b87-9283-a560ff708659"
      },
      "source": [
        "dataset1 = tf.data.Dataset.from_tensor_slices(tf.random.uniform([4,10], minval =1,maxval=10,dtype=tf.int32))\n",
        "dataset1\n",
        "for z in dataset1:\n",
        "  print(z.numpy())\n"
      ],
      "execution_count": 18,
      "outputs": [
        {
          "output_type": "stream",
          "text": [
            "[4 7 1 7 8 1 1 6 9 8]\n",
            "[9 6 9 4 8 6 4 1 2 6]\n",
            "[1 9 8 5 9 9 5 5 2 9]\n",
            "[8 2 4 8 7 2 5 7 8 2]\n"
          ],
          "name": "stdout"
        }
      ]
    }
  ]
}